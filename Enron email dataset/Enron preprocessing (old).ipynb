{
 "cells": [
  {
   "cell_type": "code",
   "execution_count": 7,
   "id": "ac66f5b2",
   "metadata": {},
   "outputs": [],
   "source": [
    "import pandas as pd"
   ]
  },
  {
   "cell_type": "code",
   "execution_count": 8,
   "id": "53eb2fd8",
   "metadata": {},
   "outputs": [
    {
     "data": {
      "text/html": [
       "<div>\n",
       "<style scoped>\n",
       "    .dataframe tbody tr th:only-of-type {\n",
       "        vertical-align: middle;\n",
       "    }\n",
       "\n",
       "    .dataframe tbody tr th {\n",
       "        vertical-align: top;\n",
       "    }\n",
       "\n",
       "    .dataframe thead th {\n",
       "        text-align: right;\n",
       "    }\n",
       "</style>\n",
       "<table border=\"1\" class=\"dataframe\">\n",
       "  <thead>\n",
       "    <tr style=\"text-align: right;\">\n",
       "      <th></th>\n",
       "      <th>Message-ID</th>\n",
       "      <th>From</th>\n",
       "      <th>To</th>\n",
       "      <th>Date</th>\n",
       "      <th>content</th>\n",
       "      <th>clean_content</th>\n",
       "    </tr>\n",
       "  </thead>\n",
       "  <tbody>\n",
       "    <tr>\n",
       "      <th>0</th>\n",
       "      <td>&lt;8345058.1075840404046.JavaMail.evans@thyme&gt;</td>\n",
       "      <td>('advdfeedback@investools.com')</td>\n",
       "      <td>('advdfeedback@investools.com')</td>\n",
       "      <td>2002-01-29 23:20:55</td>\n",
       "      <td>INVESTools Advisory\\r\\nA Free Digest of Truste...</td>\n",
       "      <td>investools advisory free digest trusted invest...</td>\n",
       "    </tr>\n",
       "    <tr>\n",
       "      <th>1</th>\n",
       "      <td>&lt;1512159.1075863666797.JavaMail.evans@thyme&gt;</td>\n",
       "      <td>('richard.sanders@enron.com')</td>\n",
       "      <td>('richard.sanders@enron.com')</td>\n",
       "      <td>2000-09-20 19:07:00</td>\n",
       "      <td>----- Forwarded by Richard B Sanders/HOU/ECT o...</td>\n",
       "      <td>forwarded richard b sanders hou ect pm justin ...</td>\n",
       "    </tr>\n",
       "    <tr>\n",
       "      <th>2</th>\n",
       "      <td>&lt;26118676.1075862176383.JavaMail.evans@thyme&gt;</td>\n",
       "      <td>('m..love@enron.com')</td>\n",
       "      <td>('m..love@enron.com')</td>\n",
       "      <td>2001-10-30 16:15:17</td>\n",
       "      <td>hey you are not wearing your target purple shi...</td>\n",
       "      <td>hey wearing target purple shirt today mine wan...</td>\n",
       "    </tr>\n",
       "    <tr>\n",
       "      <th>3</th>\n",
       "      <td>&lt;10369289.1075860831062.JavaMail.evans@thyme&gt;</td>\n",
       "      <td>('leslie.milosevich@kp.org')</td>\n",
       "      <td>('leslie.milosevich@kp.org')</td>\n",
       "      <td>2002-01-30 17:54:18</td>\n",
       "      <td>Leslie Milosevich\\r\\n1042 Santa Clara Avenue\\r...</td>\n",
       "      <td>leslie milosevich santa clara avenue alameda c...</td>\n",
       "    </tr>\n",
       "    <tr>\n",
       "      <th>4</th>\n",
       "      <td>&lt;26728895.1075860815046.JavaMail.evans@thyme&gt;</td>\n",
       "      <td>('rtwait@graphicaljazz.com')</td>\n",
       "      <td>('rtwait@graphicaljazz.com')</td>\n",
       "      <td>2002-01-30 19:36:01</td>\n",
       "      <td>Rini Twait\\r\\n1010 E 5th Ave\\r\\nLongmont, CO 8...</td>\n",
       "      <td>rini twait e th ave longmont co rtwait graphic...</td>\n",
       "    </tr>\n",
       "  </tbody>\n",
       "</table>\n",
       "</div>"
      ],
      "text/plain": [
       "                                      Message-ID  \\\n",
       "0   <8345058.1075840404046.JavaMail.evans@thyme>   \n",
       "1   <1512159.1075863666797.JavaMail.evans@thyme>   \n",
       "2  <26118676.1075862176383.JavaMail.evans@thyme>   \n",
       "3  <10369289.1075860831062.JavaMail.evans@thyme>   \n",
       "4  <26728895.1075860815046.JavaMail.evans@thyme>   \n",
       "\n",
       "                              From                               To  \\\n",
       "0  ('advdfeedback@investools.com')  ('advdfeedback@investools.com')   \n",
       "1    ('richard.sanders@enron.com')    ('richard.sanders@enron.com')   \n",
       "2            ('m..love@enron.com')            ('m..love@enron.com')   \n",
       "3     ('leslie.milosevich@kp.org')     ('leslie.milosevich@kp.org')   \n",
       "4     ('rtwait@graphicaljazz.com')     ('rtwait@graphicaljazz.com')   \n",
       "\n",
       "                  Date                                            content  \\\n",
       "0  2002-01-29 23:20:55  INVESTools Advisory\\r\\nA Free Digest of Truste...   \n",
       "1  2000-09-20 19:07:00  ----- Forwarded by Richard B Sanders/HOU/ECT o...   \n",
       "2  2001-10-30 16:15:17  hey you are not wearing your target purple shi...   \n",
       "3  2002-01-30 17:54:18  Leslie Milosevich\\r\\n1042 Santa Clara Avenue\\r...   \n",
       "4  2002-01-30 19:36:01  Rini Twait\\r\\n1010 E 5th Ave\\r\\nLongmont, CO 8...   \n",
       "\n",
       "                                       clean_content  \n",
       "0  investools advisory free digest trusted invest...  \n",
       "1  forwarded richard b sanders hou ect pm justin ...  \n",
       "2  hey wearing target purple shirt today mine wan...  \n",
       "3  leslie milosevich santa clara avenue alameda c...  \n",
       "4  rini twait e th ave longmont co rtwait graphic...  "
      ]
     },
     "execution_count": 8,
     "metadata": {},
     "output_type": "execute_result"
    }
   ],
   "source": [
    "df = pd.read_csv('enron_emails.csv')\n",
    "df.head()"
   ]
  },
  {
   "cell_type": "code",
   "execution_count": 9,
   "id": "2a18830a",
   "metadata": {},
   "outputs": [],
   "source": [
    "df.drop('clean_content', inplace=True, axis=1)"
   ]
  },
  {
   "cell_type": "markdown",
   "id": "75d71f60",
   "metadata": {},
   "source": [
    "## Word tokenisation"
   ]
  },
  {
   "cell_type": "code",
   "execution_count": 10,
   "id": "2fdb820f",
   "metadata": {},
   "outputs": [],
   "source": [
    "from nltk import word_tokenize\n",
    "import re"
   ]
  },
  {
   "cell_type": "code",
   "execution_count": 11,
   "id": "1d9567ff",
   "metadata": {},
   "outputs": [],
   "source": [
    "# # Remove whitespaces\n",
    "# text = df['content'].str.lstrip()\n",
    "# text = text.str.rstrip()\n",
    "\n",
    "# # Replace with lowercase\n",
    "# text = text.str.lower()\n",
    "\n",
    "# # Tokenize\n",
    "# text = text.apply(lambda x: word_tokenize(x))"
   ]
  },
  {
   "cell_type": "code",
   "execution_count": 16,
   "id": "64930dd5",
   "metadata": {},
   "outputs": [
    {
     "data": {
      "text/plain": [
       "0       [investools, advisory, a, free, digest, of, tr...\n",
       "1       [--, --, -, forwarded, by, richard, b, sanders...\n",
       "2       [hey, you, are, not, wearing, your, target, pu...\n",
       "3       [leslie, milosevich, 1042, santa, clara, avenu...\n",
       "4       [rini, twait, 1010, e, 5th, ave, longmont, ,, ...\n",
       "                              ...                        \n",
       "2085    [i, bot, 1,000/d, at, 3.175, apr/oct02, ., put...\n",
       "2086                   [i, 'm, okay, ., how, are, you, ?]\n",
       "2087    [[, image, ], =09, [, image, ], [, image, ], [...\n",
       "2088    [transmission, expansion, and, systems, in, tr...\n",
       "2089    [sorry, nella, ,, i, replied, a, while, ago, d...\n",
       "Length: 2090, dtype: object"
      ]
     },
     "execution_count": 16,
     "metadata": {},
     "output_type": "execute_result"
    }
   ],
   "source": [
    "# Tokenize\n",
    "text = df.apply(lambda x: word_tokenize(x['content']), axis=1)\n",
    "\n",
    "# Remove whitespaces\n",
    "text = text.apply(lambda x: [w.lstrip() for w in x])\n",
    "text = text.apply(lambda x: [w.rstrip() for w in x])\n",
    "\n",
    "# Switch all to lowercase\n",
    "text = text.apply(lambda x: [w.lower() for w in x])\n",
    "text"
   ]
  },
  {
   "cell_type": "markdown",
   "id": "b28116aa",
   "metadata": {},
   "source": [
    "## Remove all digits, punctuation, and stopwords from strings"
   ]
  },
  {
   "cell_type": "code",
   "execution_count": 23,
   "id": "9e6913e4",
   "metadata": {},
   "outputs": [],
   "source": [
    "from nltk.corpus import stopwords\n",
    "import string"
   ]
  },
  {
   "cell_type": "code",
   "execution_count": 60,
   "id": "1960dbf6",
   "metadata": {},
   "outputs": [],
   "source": [
    "stop = set(stopwords.words('english'))\n",
    "exclude = set(string.punctuation)"
   ]
  },
  {
   "cell_type": "code",
   "execution_count": 61,
   "id": "1fc4506b",
   "metadata": {},
   "outputs": [
    {
     "name": "stdout",
     "output_type": "stream",
     "text": [
      "worknot\n",
      "apr/oct\n"
     ]
    }
   ],
   "source": [
    "def remove_single_char(string, remove):\n",
    "    myStr = \"\"\n",
    "    for s in string:\n",
    "        if s not in remove:\n",
    "            myStr = myStr + s\n",
    "            \n",
    "    return myStr\n",
    "\n",
    "def remove_digit(string):\n",
    "    myStr = \"\"\n",
    "    for s in string:\n",
    "        if not s.isdigit():\n",
    "            myStr = myStr + s\n",
    "            \n",
    "    return myStr\n",
    "\n",
    "print(remove_single_char('work..!@#$%^&*()}{\":?><not', exclude))\n",
    "\n",
    "print(remove_digit('apr/oct02'))"
   ]
  },
  {
   "cell_type": "code",
   "execution_count": 62,
   "id": "ccada696",
   "metadata": {},
   "outputs": [
    {
     "data": {
      "text/plain": [
       "0       [investools, advisory, a, free, digest, of, tr...\n",
       "1       [--, --, -, forwarded, by, richard, b, sanders...\n",
       "2       [hey, you, are, not, wearing, your, target, pu...\n",
       "3       [leslie, milosevich, , santa, clara, avenue, a...\n",
       "4       [rini, twait, , e, th, ave, longmont, ,, co, ,...\n",
       "                              ...                        \n",
       "2085    [i, bot, ,/d, at, ., apr/oct, ., put, it, agai...\n",
       "2086                   [i, 'm, okay, ., how, are, you, ?]\n",
       "2087    [[, image, ], =, [, image, ], [, image, ], [, ...\n",
       "2088    [transmission, expansion, and, systems, in, tr...\n",
       "2089    [sorry, nella, ,, i, replied, a, while, ago, d...\n",
       "Length: 2090, dtype: object"
      ]
     },
     "execution_count": 62,
     "metadata": {},
     "output_type": "execute_result"
    }
   ],
   "source": [
    "# remove digits\n",
    "digit_free = text.apply(lambda x: [remove_digit(w) for w in x])\n",
    "digit_free"
   ]
  },
  {
   "cell_type": "code",
   "execution_count": 63,
   "id": "91a56fca",
   "metadata": {
    "scrolled": true
   },
   "outputs": [
    {
     "data": {
      "text/plain": [
       "0       [investools, advisory, a, free, digest, of, tr...\n",
       "1       [, , , forwarded, by, richard, b, sandershouec...\n",
       "2       [hey, you, are, not, wearing, your, target, pu...\n",
       "3       [leslie, milosevich, , santa, clara, avenue, a...\n",
       "4       [rini, twait, , e, th, ave, longmont, , co, , ...\n",
       "                              ...                        \n",
       "2085    [i, bot, d, at, , aproct, , put, it, against, ...\n",
       "2086                      [i, m, okay, , how, are, you, ]\n",
       "2087    [, image, , , , image, , , image, , , image, ,...\n",
       "2088    [transmission, expansion, and, systems, in, tr...\n",
       "2089    [sorry, nella, , i, replied, a, while, ago, di...\n",
       "Length: 2090, dtype: object"
      ]
     },
     "execution_count": 63,
     "metadata": {},
     "output_type": "execute_result"
    }
   ],
   "source": [
    "# remove punctuation\n",
    "punc_free = digit_free.apply(lambda x: [remove_single_char(w, exclude) for w in x\n",
    "                                       ])\n",
    "punc_free"
   ]
  },
  {
   "cell_type": "code",
   "execution_count": 64,
   "id": "eb159c66",
   "metadata": {},
   "outputs": [
    {
     "data": {
      "text/plain": [
       "0       [investools, advisory, free, digest, trusted, ...\n",
       "1       [forwarded, richard, b, sandershouect, pm, jus...\n",
       "2       [hey, wearing, target, purple, shirt, today, m...\n",
       "3       [leslie, milosevich, santa, clara, avenue, ala...\n",
       "4       [rini, twait, e, th, ave, longmont, co, rtwait...\n",
       "                              ...                        \n",
       "2085            [bot, aproct, put, digital, gasx, thanks]\n",
       "2086                                               [okay]\n",
       "2087    [image, image, image, image, image, image, ima...\n",
       "2088    [transmission, expansion, systems, transition,...\n",
       "2089    [sorry, nella, replied, ago, directly, rob, mi...\n",
       "Length: 2090, dtype: object"
      ]
     },
     "execution_count": 64,
     "metadata": {},
     "output_type": "execute_result"
    }
   ],
   "source": [
    "# remove stopwords\n",
    "stop_free = punc_free.apply(lambda x: [w for w in x\n",
    "                                       if w not in stop])\n",
    "# remove empty strings\n",
    "stop_free = stop_free.apply(lambda x: [w for w in \n",
    "                                       x if w!=''])\n",
    "stop_free"
   ]
  },
  {
   "cell_type": "raw",
   "id": "9a63225e",
   "metadata": {},
   "source": [
    "Testing the below transformation of removing stopwords\n",
    "stop contains 'a' and digits\n",
    "exclude contains '.'"
   ]
  },
  {
   "cell_type": "code",
   "execution_count": 65,
   "id": "f776afd0",
   "metadata": {
    "scrolled": true
   },
   "outputs": [
    {
     "data": {
      "text/plain": [
       "1424"
      ]
     },
     "execution_count": 65,
     "metadata": {},
     "output_type": "execute_result"
    }
   ],
   "source": [
    "sum(text.apply(lambda x: True if 'a' in x\n",
    "          else False))"
   ]
  },
  {
   "cell_type": "code",
   "execution_count": 66,
   "id": "ab2faaf3",
   "metadata": {},
   "outputs": [
    {
     "data": {
      "text/plain": [
       "0"
      ]
     },
     "execution_count": 66,
     "metadata": {},
     "output_type": "execute_result"
    }
   ],
   "source": [
    "sum(stop_free.apply(lambda x: True if 'a' in x\n",
    "          else False))"
   ]
  },
  {
   "cell_type": "raw",
   "id": "f8b91a57",
   "metadata": {},
   "source": [
    "Transformation is successful"
   ]
  },
  {
   "cell_type": "markdown",
   "id": "3abf0347",
   "metadata": {},
   "source": [
    "### Removing special words and small words\n",
    "\n",
    "Remove the word \"image\" since it comes from html tags\n",
    "\n",
    "Remove words less than 3 chars in length"
   ]
  },
  {
   "cell_type": "code",
   "execution_count": 67,
   "id": "d1cb2090",
   "metadata": {},
   "outputs": [
    {
     "data": {
      "text/plain": [
       "0       [investools, advisory, free, digest, trusted, ...\n",
       "1       [forwarded, richard, sandershouect, justin, bo...\n",
       "2       [hey, wearing, target, purple, shirt, today, m...\n",
       "3       [leslie, milosevich, santa, clara, avenue, ala...\n",
       "4       [rini, twait, ave, longmont, rtwait, graphical...\n",
       "                              ...                        \n",
       "2085            [bot, aproct, put, digital, gasx, thanks]\n",
       "2086                                               [okay]\n",
       "2087    [syncrasy, llc, fax, texas, avenue, suite, ous...\n",
       "2088    [transmission, expansion, systems, transition,...\n",
       "2089    [sorry, nella, replied, ago, directly, rob, mi...\n",
       "Length: 2090, dtype: object"
      ]
     },
     "execution_count": 67,
     "metadata": {},
     "output_type": "execute_result"
    }
   ],
   "source": [
    "l1 = lambda x: True if x!='image' else False \n",
    "\n",
    "stop_free = stop_free.apply(lambda x: \n",
    "                              list(filter(l1, x)))\n",
    "\n",
    "l1 = lambda x: True if len(x)>2 else False \n",
    "\n",
    "stop_free = stop_free.apply(lambda x: \n",
    "                              list(filter(l1, x)))\n",
    "\n",
    "stop_free"
   ]
  },
  {
   "cell_type": "markdown",
   "id": "82172b00",
   "metadata": {},
   "source": [
    "## Lemmatize all words\n",
    "Words in third person are changed to first person and verbs in past and future tenses are changed into present tense"
   ]
  },
  {
   "cell_type": "code",
   "execution_count": 70,
   "id": "bacd95be",
   "metadata": {},
   "outputs": [],
   "source": [
    "from nltk.stem import WordNetLemmatizer"
   ]
  },
  {
   "cell_type": "code",
   "execution_count": 71,
   "id": "5e614e99",
   "metadata": {
    "scrolled": true
   },
   "outputs": [],
   "source": [
    "lemma = WordNetLemmatizer()\n"
   ]
  },
  {
   "cell_type": "code",
   "execution_count": 72,
   "id": "1e3f89fc",
   "metadata": {},
   "outputs": [
    {
     "name": "stdout",
     "output_type": "stream",
     "text": [
      "box\n",
      "went\n",
      "go\n"
     ]
    }
   ],
   "source": [
    "print(lemma.lemmatize('boxes', pos='v'))\n",
    "print(lemma.lemmatize('went'))\n",
    "print(lemma.lemmatize('went', pos='v'))"
   ]
  },
  {
   "cell_type": "code",
   "execution_count": 73,
   "id": "f6d8249f",
   "metadata": {},
   "outputs": [],
   "source": [
    "normalized = stop_free.apply(lambda x: [lemma.lemmatize(w, pos='v') for w in x])"
   ]
  },
  {
   "cell_type": "code",
   "execution_count": 74,
   "id": "61a27616",
   "metadata": {},
   "outputs": [
    {
     "data": {
      "text/plain": [
       "0       [investools, advisory, free, digest, trust, in...\n",
       "1       [forward, richard, sandershouect, justin, boyd...\n",
       "2       [hey, wear, target, purple, shirt, today, mine...\n",
       "3       [leslie, milosevich, santa, clara, avenue, ala...\n",
       "4       [rini, twait, ave, longmont, rtwait, graphical...\n",
       "                              ...                        \n",
       "2085             [bot, aproct, put, digital, gasx, thank]\n",
       "2086                                               [okay]\n",
       "2087    [syncrasy, llc, fax, texas, avenue, suite, ous...\n",
       "2088    [transmission, expansion, systems, transition,...\n",
       "2089    [sorry, nella, reply, ago, directly, rob, miln...\n",
       "Length: 2090, dtype: object"
      ]
     },
     "execution_count": 74,
     "metadata": {},
     "output_type": "execute_result"
    }
   ],
   "source": [
    "normalized"
   ]
  },
  {
   "cell_type": "markdown",
   "id": "b02c535f",
   "metadata": {},
   "source": [
    "## Stemming\n",
    "Words are reduced to their root form"
   ]
  },
  {
   "cell_type": "code",
   "execution_count": 75,
   "id": "5b5275a4",
   "metadata": {},
   "outputs": [],
   "source": [
    "from nltk.stem.snowball import SnowballStemmer\n",
    "snow = SnowballStemmer(language='english')"
   ]
  },
  {
   "cell_type": "code",
   "execution_count": 76,
   "id": "13879edc",
   "metadata": {},
   "outputs": [
    {
     "data": {
      "text/plain": [
       "0       [investool, advisori, free, digest, trust, inv...\n",
       "1       [forward, richard, sandershouect, justin, boyd...\n",
       "2       [hey, wear, target, purpl, shirt, today, mine,...\n",
       "3       [lesli, milosevich, santa, clara, avenu, alame...\n",
       "4       [rini, twait, ave, longmont, rtwait, graphical...\n",
       "                              ...                        \n",
       "2085               [bot, aproct, put, digit, gasx, thank]\n",
       "2086                                               [okay]\n",
       "2087    [syncrasi, llc, fax, texa, avenu, suit, ouston...\n",
       "2088    [transmiss, expans, system, transit, confer, f...\n",
       "2089    [sorri, nella, repli, ago, direct, rob, milnth...\n",
       "Length: 2090, dtype: object"
      ]
     },
     "execution_count": 76,
     "metadata": {},
     "output_type": "execute_result"
    }
   ],
   "source": [
    "cleaned_content = normalized.apply(lambda x: [snow.stem(w) for w in x])\n",
    "cleaned_content"
   ]
  },
  {
   "cell_type": "code",
   "execution_count": 77,
   "id": "9a91e061",
   "metadata": {
    "scrolled": true
   },
   "outputs": [],
   "source": [
    "# Convert the arrays back into single strings of text\n",
    "df['cleaned_content'] = cleaned_content.apply(lambda x: \" \".join(x))\n",
    "df['cleaned_content'] = pd.Series(df['cleaned_content'].values, dtype=pd.StringDtype())"
   ]
  },
  {
   "cell_type": "code",
   "execution_count": 78,
   "id": "b84264a1",
   "metadata": {},
   "outputs": [
    {
     "data": {
      "text/plain": [
       "Message-ID         0\n",
       "From               0\n",
       "To                 0\n",
       "Date               0\n",
       "content            0\n",
       "cleaned_content    0\n",
       "dtype: int64"
      ]
     },
     "execution_count": 78,
     "metadata": {},
     "output_type": "execute_result"
    }
   ],
   "source": [
    "df.isna().sum()"
   ]
  },
  {
   "cell_type": "code",
   "execution_count": 79,
   "id": "f1fadcea",
   "metadata": {
    "scrolled": true
   },
   "outputs": [],
   "source": [
    "df.to_csv('enron_emails_clean.csv', index=False)"
   ]
  },
  {
   "cell_type": "code",
   "execution_count": 80,
   "id": "6921b5f6",
   "metadata": {},
   "outputs": [
    {
     "data": {
      "text/plain": [
       "(2090, 6)"
      ]
     },
     "execution_count": 80,
     "metadata": {},
     "output_type": "execute_result"
    }
   ],
   "source": [
    "df.shape"
   ]
  }
 ],
 "metadata": {
  "kernelspec": {
   "display_name": "Python 3 (ipykernel)",
   "language": "python",
   "name": "python3"
  },
  "language_info": {
   "codemirror_mode": {
    "name": "ipython",
    "version": 3
   },
   "file_extension": ".py",
   "mimetype": "text/x-python",
   "name": "python",
   "nbconvert_exporter": "python",
   "pygments_lexer": "ipython3",
   "version": "3.10.9"
  }
 },
 "nbformat": 4,
 "nbformat_minor": 5
}
