{
 "cells": [
  {
   "cell_type": "code",
   "execution_count": 1,
   "id": "ac66f5b2",
   "metadata": {},
   "outputs": [],
   "source": [
    "import pandas as pd\n",
    "import re"
   ]
  },
  {
   "cell_type": "code",
   "execution_count": 2,
   "id": "53eb2fd8",
   "metadata": {},
   "outputs": [],
   "source": [
    "df = pd.read_csv('enron_emails.csv')\n",
    "df.head()\n",
    "df.drop('clean_content', inplace=True, axis=1)"
   ]
  },
  {
   "cell_type": "code",
   "execution_count": 3,
   "id": "4012dccf",
   "metadata": {
    "scrolled": true
   },
   "outputs": [],
   "source": [
    "emails = df['content'].to_numpy().copy()"
   ]
  },
  {
   "cell_type": "code",
   "execution_count": 4,
   "id": "4cb06c19",
   "metadata": {
    "scrolled": true
   },
   "outputs": [
    {
     "name": "stdout",
     "output_type": "stream",
     "text": [
      "INVESTools Advisory\r\n",
      "A Free Digest of Trusted Investment Advice\r\n",
      "\r\n",
      "To unsubscribe from this free newsletter, please see below.\r\n",
      "\r\n",
      "In This Issue:\r\n",
      "\r\n",
      "1. Fried Sells 4 Stocks, Gains +46.8% in 3 Months (KM)\r\n",
      "2. Rowe: January Index Confirms Bull Market for 2002 (ALOY)\r\n",
      "3. Small-Cap Advisor Earns +31.6% in 2001 (LBIX)\r\n",
      "4. Compounding Returns with Pine Trees (PCL)\r\n",
      "5. Undervalued, High-yield Bank Puts Customers First (ASO)\r\n",
      "\r\n",
      "\r\n",
      "*************** A Word from our Sponsor *******************\r\n",
      "Top Wall Street Watcher Ben Zacks: +51.7%/year 5-Year Gain!\r\n",
      "\r\n",
      "Moving with the best and brightest of Wall Street's big-\r\n",
      "money machines earned Ben Zacks a +51.7% five-year average\r\n",
      "annual gain. Start outperforming long-term. Get Zacks'\r\n",
      "latest 13-stock buylist with your FREE 30-day trial:\r\n",
      "http://www.investools.com/c/go/ZAKS/MTXTU-zaksTB1?s=S600\r\n",
      "***********************************************************\r\n",
      "\r\n",
      "\r\n",
      "\r\n",
      "INVESTools Advisory\r\n",
      "By John Brobst, INVESTools.com\r\n",
      "\r\n",
      "\r\n",
      "1. Fried Sells 4 Stocks, Locks in +46.8% in 3 Months (KM)\r\n",
      "\r\n",
      "David Fried knows a stock is undervalued when the company's\r\n",
      "management buys back its shares on the open market. His\r\n",
      "latest triumph is pocketing an impressive +46.8% gain in\r\n",
      "three short months by selling four buyback stocks. These\r\n",
      "include a +43.3% gain on auto retailer Automation\r\n",
      "Incorporated (AN) and a +62.7% gain on digital phone system\r\n",
      "purveyor Inter-Tel (INTL).\r\n",
      "\r\n",
      "Fried's most recent move is to buy KMart Corporation (KM),\r\n",
      "the beleaguered discount retailer who just declared\r\n",
      "bankruptcy. \"We do not think that K-Mart will go out of\r\n",
      "business,\" Fried says. \"It will take a while but recovery is\r\n",
      "a possibility.\" He just bought 500 shares for $380.\r\n",
      "\r\n",
      "Another Fried pick is C-Cor.net Corporation (CCBL), who\r\n",
      "provides a range of technology services to broadband\r\n",
      "networks. Today's telecom spending slowdown hit the company\r\n",
      "hard; net sales fell 34% to $52 million last quarter and\r\n",
      "caused a net loss of $5.4 million vs. a $5.8 million gain\r\n",
      "last year. But Fried cites a buyback plan and a $1.5 million\r\n",
      "restructuring charge as proof that management sees a rosier\r\n",
      "future.\r\n",
      "\r\n",
      "For more on David Fried's advice see \"Buyback Index\r\n",
      "Portfolios,\" January 2002, The Buyback Letter. David Fried\r\n",
      "provides wealth-building opportunities in companies\r\n",
      "repurchasing their stock.\r\n",
      "\r\n",
      "For a free 30-day trial go to:\r\n",
      "\r\n",
      "http://www.investools.com/c/go/BACK/MTXTU-back012902\r\n",
      "\r\n",
      "----------------------------------------------------------\r\n",
      "2. Rowe: January Index Confirms Bull Market for 2002 (ALOY)\r\n",
      "\r\n",
      "Don Rowe says the January Index confirms that 2002 should\r\n",
      "see a bull market. The first five trading days of 2002\r\n",
      "provided gains for the Nasdaq (+5.4%), S&P 500 (+1.1%) and\r\n",
      "Dow Industrials (+1.3%). Rowe says this five-day index has\r\n",
      "correctly predicted the market's direction for the year\r\n",
      "since 1951 with only four exceptions. Those include three\r\n",
      "war years (1966, 1973, 1990) and 1994, when the Fed Funds\r\n",
      "rate doubled from 3% to 6% for the year.\r\n",
      "\r\n",
      "Rowe maintains \"be sure to own\" recommendations on seven\r\n",
      "companies he says are leading the market. One of these is\r\n",
      "Alloy Incorporated (ALOY); the media company and direct\r\n",
      "marketer provides content, community and commerce to\r\n",
      "\"Generation Y,\" roughly 58 million people between 10 and 24\r\n",
      "years of age. Rowe likes this market as it accounts for $250\r\n",
      "billion in disposable income and should grow 20% faster than\r\n",
      "the overall population. Q3 saw earnings up +119% on a 58%\r\n",
      "increase in sales.\r\n",
      "\r\n",
      "Another Rowe pick is New Century Financial Corporation\r\n",
      "(NCEN). The financier makes, buys, sells and services sub-\r\n",
      "prime mortgage loans secured by first mortgages on single-\r\n",
      "family homes. Borrowers typically have plenty of equity in\r\n",
      "their properties to secure a loan but suffer from weak\r\n",
      "credit profiles or high debt-to-income ratios. Q3 earnings\r\n",
      "grew +238% on a 56% hike in sales.\r\n",
      "\r\n",
      "For more on Don Rowe's advice see \"Investment Opportunity,\"\r\n",
      "February 2002, The Wall Street Digest. Momentum investor\r\n",
      "Donald Rowe targets stocks and mutual funds capable of\r\n",
      "generating 26+% annual returns.\r\n",
      "\r\n",
      "For a free 30-day trial go to:\r\n",
      "\r\n",
      "http://www.investools.com/c/go/WALL/MTXTU-wall012902?s=S600\r\n",
      "\r\n",
      "-----------------------------------------------------------\r\n",
      "3. Small-Cap Advisor Earns +31.6% in 2001 (LBIX)\r\n",
      "\r\n",
      "The major indexes suffered a terrible year, but Richard\r\n",
      "Geist's 12 recommendations for 2001 earned a healthy +31.6%.\r\n",
      "He lists many reasons why his selections should see growth\r\n",
      "going forward. These include \"extremely bullish\" monetary\r\n",
      "conditions with high productivity and no inflation in sight,\r\n",
      "and a yield curve that continues to steepen. Also, investor\r\n",
      "sentiment polls are becoming more bearish. \"These are always\r\n",
      "a contrary indicator,\" he says.\r\n",
      "\r\n",
      "Geist's latest recommendation is to buy shares of Leading\r\n",
      "Brands (LBIX). The company is Canada's largest independent\r\n",
      "food brand management company, and it is now expanding into\r\n",
      "the US. Geist particularly likes how the firm saves money\r\n",
      "with its integrated distribution system; the system makes\r\n",
      "products from raw materials and provides packaging,\r\n",
      "warehousing and distribution.\r\n",
      "\r\n",
      "Recent financial results show that Leading Brands is on a\r\n",
      "roll. FY 2001 saw revenues grow 70% to $49.8 million on net\r\n",
      "income of $1.2 million ($0.09 per share), up from last\r\n",
      "year's loss of ($608,000). Geist predicts the company will\r\n",
      "see revenues reach $40 million in 2002 and $60 million in\r\n",
      "2003. That yields a forward PE of 4.3. \"We think LBIX is\r\n",
      "significantly undervalued,\" Geist says. \"In the $1 range,\r\n",
      "Leading Brands is a strong buy.\"\r\n",
      "\r\n",
      "For more on Richard Geist's advice see \"Highlighted Stocks,\"\r\n",
      "February 2002, Richard Geist's Strategic Investing. Richard\r\n",
      "Geist integrates psychological aspects of investing into a\r\n",
      "methodology for selecting small company stocks.\r\n",
      "\r\n",
      "For a free 30-day trial go to:\r\n",
      "\r\n",
      "http://www.investools.com/c/go/STIN/MTXTU-stin012902\r\n",
      "\r\n",
      "----------------------------------------------------------\r\n",
      "4. Compounding Returns with Pine Trees (PCL)\r\n",
      "\r\n",
      "Growing trees is not usually a noisy business that catches\r\n",
      "the attention of the investment media. \"But it is a good\r\n",
      "business,\" says Dick Young. The timber business is less\r\n",
      "volatile and capital-intensive than manufacturing, and Young\r\n",
      "sees demand for timber increasing as the population\r\n",
      "increases. He notes how the average return on timber\r\n",
      "investments has outperformed the S&P 500; from 1960 to 1999,\r\n",
      "the average annual return was 13.6%.\r\n",
      "\r\n",
      "Young's favorite timber play is Plum Creek Timber (PCL), one\r\n",
      "of the largest private timberland owners in the US. The\r\n",
      "REIT's primary goal is to profit by acquiring and managing\r\n",
      "lands. Young says Plum Creek Timber's 8% yield and status as\r\n",
      "a REIT makes it ideal for tax deferred accounts.\r\n",
      "\r\n",
      "Another of Young's timber selections is Deltic Timber\r\n",
      "Corporation (DEL). The company grows and harvests timber\r\n",
      "from its over 430,000 acres in Arkansas and Louisiana. A\r\n",
      "main company goal is to expand its timber holdings and\r\n",
      "sustainable harvest level. Young says shares are a good\r\n",
      "portfolio counterweight for value investors \"who appreciate\r\n",
      "the intrinsic worth of underlying real natural resources.\"\r\n",
      "\r\n",
      "For more on Dick Young's advice see \"Investment Commentary,\"\r\n",
      "February 2002, Richard Young's Intelligence Report. Richard\r\n",
      "Young uses the buy-and-hold strategy of mentor Warren\r\n",
      "Buffett to uncover low-risk, high-reward opportunities.\r\n",
      "\r\n",
      "For a free 30-day trial go to:\r\n",
      "\r\n",
      "http://www.investools.com/c/go/INTE/MTXTU-inte012902?s=S602\r\n",
      "\r\n",
      "----------------------------------------------------------\r\n",
      "5. Undervalued, High-yield Bank Puts Customers First (ASO)\r\n",
      "\r\n",
      "Amsouth Bancorp (ASO) is giving investors a healthy yield\r\n",
      "(4.43%) for the risk involved, says Jodie Weiss (Investment\r\n",
      "Quality Trends). With $39 billion in assets, Amsouth is one\r\n",
      "of the largest financial institutions in the south with more\r\n",
      "than 600 offices. She credits the bank's success to \"putting\r\n",
      "the customer first.\"\r\n",
      "\r\n",
      "Weiss likes how Amsouth uses new technology to save money by\r\n",
      "streamlining operations. She notes how Amsouth just ranked\r\n",
      "number six on eWeek's \"Fast Track 500\" list of companies\r\n",
      "that deploy cutting-edge technology throughout operations;\r\n",
      "at number 5, Merrill Lynch was the only financial services\r\n",
      "firm who placed higher. Also, Amsouth's Internet banking\r\n",
      "group quadrupled its customer base to 425,000 last year.\r\n",
      "\r\n",
      "Weiss says ASO shares are undervalued. With the stock\r\n",
      "selling near $20 and a yield of 4.43%, Weiss sees \"43%\r\n",
      "upside potential.\" Dividends have risen annually for the\r\n",
      "past 11 years, a buyback plan for 25 million shares was\r\n",
      "authorized in September 2001, and the stock's PE is a\r\n",
      "reasonable 13x. \"When priced to yield 7.0%, ASO is\r\n",
      "undervalued and a buy should be considered,\" Weiss says.\r\n",
      "\r\n",
      "For more on Jodie Weiss' advice see \"Investment Spotlight,\"\r\n",
      "January 21, 2002, The Income Digest. The digest excerpts\r\n",
      "from investment publications and highlights all-weather\r\n",
      "income-oriented opportunities uncovered by the top minds on\r\n",
      "Wall Street.\r\n",
      "\r\n",
      "For a free 30-day trial go to:\r\n",
      "\r\n",
      "http://www.investools.com/c/go/INDI/MTXTU-indi012902\r\n",
      "\r\n",
      "\r\n",
      "\r\n",
      "*************** A Word from our Sponsor *******************\r\n",
      "NEW REPORT: Top 10 Picks for 2002 (+36% in 2001!)\r\n",
      "\r\n",
      "Despite a slumping economy and shaky stock market, Frank\r\n",
      "Curzio's 10 Bulls-eye Picks for 2001 gained a whopping 36%.\r\n",
      "Now Curzio has selected 10 stocks with incredible potential\r\n",
      "for 2002. Get these 10 red-hot picks today! Click here:\r\n",
      "http://www.investools.com/c/go/FXCP/FXCP-mtxtu0129?s=S200\r\n",
      "***********************************************************\r\n",
      "\r\n",
      "\r\n",
      "Disclaimer\r\n",
      "\r\n",
      "The INVESTools Advisory is published solely for\r\n",
      "informational purposes and does not solicit nor offer to buy\r\n",
      "or sell any stock, mutual fund or other security. It does\r\n",
      "not attempt or claim to be a complete description of the\r\n",
      "securities, markets, or developments referred to in the\r\n",
      "material. All expressions of opinion are subject to change\r\n",
      "without notice. The information is obtained from internal\r\n",
      "and external sources which INVESTools considers reliable,\r\n",
      "but INVESTools has not independently verified such\r\n",
      "information and INVESTools does not guarantee that it is\r\n",
      "accurate or complete. INVESTools does not undertake to\r\n",
      "advise anyone. INVESTools, its employees, and/or officers\r\n",
      "and directors, may from time to time have a position in the\r\n",
      "securities mentioned and may sell or buy such securities.\r\n",
      "\r\n",
      "\r\n",
      "REMOVE ME FROM THIS FREE EMAIL LIST\r\n",
      "\r\n",
      "To be removed from the email distribution list for the\r\n",
      "FREE INVESTools Advisory and Updates simply click the link\r\n",
      "below and hit \"Send\" on the email that is launched.(Or copy\r\n",
      "and paste the email address below to a new outgoing email\r\n",
      "message and hit \"Send\" on the email that is launched).\r\n",
      "\r\n",
      "mailto:U-A21.49.306258@bonnie.investools.com\r\n",
      "\r\n",
      "IMPORTANT: This is an automated system and does not\r\n",
      "cancel your paid newsletter or service subscriptions on\r\n",
      "INVESTools.com.\r\n",
      "\r\n",
      "If you have tried unsubscribing in the past -- and believe\r\n",
      "that you received this message in error -- please send an\r\n",
      "email to\r\n",
      "\r\n",
      "mailto:itfeedback@investools.com\r\n",
      "\r\n",
      "to voice your concerns and be removed from the list.\r\n",
      "\r\n",
      "PAID SUBSCRIPTION INFORMATION\r\n",
      "If you have questions about INVESTools services or your\r\n",
      "paid subscriptions contact the INVESTools Customer Service\r\n",
      "Center at:\r\n",
      "\r\n",
      "http://www.investools.com/cgi-bin/help.pl/Info/pr/FAQ.html\r\n",
      "\r\n",
      "\n"
     ]
    }
   ],
   "source": [
    "print(emails[0])"
   ]
  },
  {
   "cell_type": "markdown",
   "id": "4bdd2075",
   "metadata": {},
   "source": [
    "## Remove escape characters\n",
    "\\b\\n\\r\\t and others"
   ]
  },
  {
   "cell_type": "code",
   "execution_count": 5,
   "id": "fc7fd9cf",
   "metadata": {},
   "outputs": [],
   "source": [
    "for i in range(len(emails)):\n",
    "    emails[i] = re.sub('[\\b\\n\\r\\t\\\\\\'\\\"]', ' ', emails[i])"
   ]
  },
  {
   "cell_type": "markdown",
   "id": "5ec47ee4",
   "metadata": {},
   "source": [
    "## Remove digits and punctuation"
   ]
  },
  {
   "cell_type": "code",
   "execution_count": 6,
   "id": "9ca12c88",
   "metadata": {},
   "outputs": [
    {
     "name": "stdout",
     "output_type": "stream",
     "text": [
      "{'-', '[', '|', '@', ':', '+', '_', '^', ')', ',', '<', '~', '*', '=', '{', '>', '?', '\"', '%', '\\\\', \"'\", '/', '}', '.', ']', '&', '#', '!', '`', '$', ';', '('}\n"
     ]
    }
   ],
   "source": [
    "import string\n",
    "punctuation = set(string.punctuation)\n",
    "print(punctuation)"
   ]
  },
  {
   "cell_type": "code",
   "execution_count": 7,
   "id": "d24a5a5a",
   "metadata": {},
   "outputs": [],
   "source": [
    "for i in range(len(emails)):\n",
    "    emails[i] = re.sub('[0-9]', ' ', emails[i])"
   ]
  },
  {
   "cell_type": "code",
   "execution_count": 8,
   "id": "6ebb892d",
   "metadata": {
    "scrolled": false
   },
   "outputs": [],
   "source": [
    "def replace_single_char(string, remove, replace):\n",
    "    myStr = \"\"\n",
    "    for s in string:\n",
    "        if s not in remove:\n",
    "            myStr += s\n",
    "        else:\n",
    "            myStr += replace\n",
    "            \n",
    "    return myStr\n",
    "\n",
    "for i in range(len(emails)):\n",
    "    emails[i] = replace_single_char(emails[i], punctuation, ' ')"
   ]
  },
  {
   "cell_type": "markdown",
   "id": "a63bfce6",
   "metadata": {},
   "source": [
    "## Switch to lowercase\n",
    "## Remove leading and trailing whitespaces"
   ]
  },
  {
   "cell_type": "code",
   "execution_count": 9,
   "id": "8fc71e15",
   "metadata": {},
   "outputs": [],
   "source": [
    "emails = [x.lower().lstrip().rstrip() for x in emails]"
   ]
  },
  {
   "cell_type": "markdown",
   "id": "7a2aaad6",
   "metadata": {},
   "source": [
    "## Tokenize words"
   ]
  },
  {
   "cell_type": "code",
   "execution_count": 10,
   "id": "2c107ee5",
   "metadata": {},
   "outputs": [],
   "source": [
    "from nltk import word_tokenize"
   ]
  },
  {
   "cell_type": "code",
   "execution_count": 11,
   "id": "8d7266c7",
   "metadata": {},
   "outputs": [],
   "source": [
    "emails_tkd = emails.copy()\n",
    "for i in range(len(emails)):\n",
    "    emails_tkd[i] = word_tokenize(emails[i])"
   ]
  },
  {
   "cell_type": "markdown",
   "id": "b28116aa",
   "metadata": {},
   "source": [
    "## Remove stopwords and special words\n",
    "\n",
    "special words: http https image"
   ]
  },
  {
   "cell_type": "code",
   "execution_count": 12,
   "id": "9e6913e4",
   "metadata": {},
   "outputs": [],
   "source": [
    "from nltk.corpus import stopwords\n",
    "\n",
    "stopw = set(stopwords.words('english'))\n",
    "specialw = ('http','https','image')"
   ]
  },
  {
   "cell_type": "code",
   "execution_count": 13,
   "id": "1fc4506b",
   "metadata": {},
   "outputs": [],
   "source": [
    "for i in range(len(emails_tkd)):\n",
    "    email = emails_tkd[i]\n",
    "    email_clean = [x for x in email if x not in stopw]\n",
    "    email_clean = [x for x in email_clean if len(x)>3]\n",
    "    email_clean = [x for x in email_clean if x not in specialw]\n",
    "    emails_tkd[i] = email_clean"
   ]
  },
  {
   "cell_type": "code",
   "execution_count": 14,
   "id": "4cdf17c4",
   "metadata": {},
   "outputs": [
    {
     "name": "stdout",
     "output_type": "stream",
     "text": [
      "False\n"
     ]
    }
   ],
   "source": [
    "print('http' in emails_tkd[0])"
   ]
  },
  {
   "cell_type": "markdown",
   "id": "82172b00",
   "metadata": {},
   "source": [
    "## Lemmatize all words\n",
    "Words in third person are changed to first person and verbs in past and future tenses are changed into present tense"
   ]
  },
  {
   "cell_type": "code",
   "execution_count": 15,
   "id": "bacd95be",
   "metadata": {},
   "outputs": [],
   "source": [
    "from nltk.stem import WordNetLemmatizer"
   ]
  },
  {
   "cell_type": "code",
   "execution_count": 16,
   "id": "5e614e99",
   "metadata": {
    "scrolled": true
   },
   "outputs": [],
   "source": [
    "lemma = WordNetLemmatizer()"
   ]
  },
  {
   "cell_type": "code",
   "execution_count": 17,
   "id": "b5ad88dd",
   "metadata": {},
   "outputs": [
    {
     "name": "stdout",
     "output_type": "stream",
     "text": [
      "Help on method lemmatize in module nltk.stem.wordnet:\n",
      "\n",
      "lemmatize(word: str, pos: str = 'n') -> str method of nltk.stem.wordnet.WordNetLemmatizer instance\n",
      "    Lemmatize `word` using WordNet's built-in morphy function.\n",
      "    Returns the input word unchanged if it cannot be found in WordNet.\n",
      "    \n",
      "    :param word: The input word to lemmatize.\n",
      "    :type word: str\n",
      "    :param pos: The Part Of Speech tag. Valid options are `\"n\"` for nouns,\n",
      "        `\"v\"` for verbs, `\"a\"` for adjectives, `\"r\"` for adverbs and `\"s\"`\n",
      "        for satellite adjectives.\n",
      "    :param pos: str\n",
      "    :return: The lemma of `word`, for the given `pos`.\n",
      "\n"
     ]
    }
   ],
   "source": [
    "help(lemma.lemmatize)"
   ]
  },
  {
   "cell_type": "code",
   "execution_count": 18,
   "id": "1e3f89fc",
   "metadata": {},
   "outputs": [
    {
     "name": "stdout",
     "output_type": "stream",
     "text": [
      "box\n",
      "box\n",
      "went\n",
      "go\n",
      "went\n"
     ]
    }
   ],
   "source": [
    "print(lemma.lemmatize('boxes', pos='v'))\n",
    "print(lemma.lemmatize('boxes', pos='n'))\n",
    "print(lemma.lemmatize('went'))\n",
    "print(lemma.lemmatize('went', pos='v'))\n",
    "print(lemma.lemmatize('went', pos='n'))"
   ]
  },
  {
   "cell_type": "code",
   "execution_count": 19,
   "id": "5db60566",
   "metadata": {},
   "outputs": [],
   "source": [
    "for i in range(len(emails_tkd)):\n",
    "    email = emails_tkd[i]\n",
    "    email_clean = [lemma.lemmatize(x) for x in email]\n",
    "    emails_tkd[i] = email_clean"
   ]
  },
  {
   "cell_type": "markdown",
   "id": "b02c535f",
   "metadata": {},
   "source": [
    "## Stemming all words\n",
    "Words are reduced to their root form"
   ]
  },
  {
   "cell_type": "code",
   "execution_count": 20,
   "id": "5b5275a4",
   "metadata": {},
   "outputs": [],
   "source": [
    "from nltk.stem.snowball import SnowballStemmer\n",
    "snow = SnowballStemmer(language='english')"
   ]
  },
  {
   "cell_type": "code",
   "execution_count": 21,
   "id": "13879edc",
   "metadata": {},
   "outputs": [],
   "source": [
    "for i in range(len(emails_tkd)):\n",
    "    email = emails_tkd[i]\n",
    "    email_clean = [snow.stem(x) for x in email]\n",
    "    emails_tkd[i] = email_clean"
   ]
  },
  {
   "cell_type": "markdown",
   "id": "87a22f82",
   "metadata": {},
   "source": [
    "## Convert back into strings of text"
   ]
  },
  {
   "cell_type": "code",
   "execution_count": 22,
   "id": "58d3c6fc",
   "metadata": {},
   "outputs": [],
   "source": [
    "for i in range(len(emails_tkd)):\n",
    "    email = emails_tkd[i]\n",
    "    email_string = ' '.join(email)\n",
    "    emails_tkd[i] = email_string"
   ]
  },
  {
   "cell_type": "code",
   "execution_count": 23,
   "id": "1f439a87",
   "metadata": {
    "scrolled": true
   },
   "outputs": [],
   "source": [
    "df['cleaned_content'] = emails_tkd"
   ]
  },
  {
   "cell_type": "code",
   "execution_count": 24,
   "id": "a384d0f7",
   "metadata": {
    "scrolled": true
   },
   "outputs": [
    {
     "data": {
      "text/html": [
       "<div>\n",
       "<style scoped>\n",
       "    .dataframe tbody tr th:only-of-type {\n",
       "        vertical-align: middle;\n",
       "    }\n",
       "\n",
       "    .dataframe tbody tr th {\n",
       "        vertical-align: top;\n",
       "    }\n",
       "\n",
       "    .dataframe thead th {\n",
       "        text-align: right;\n",
       "    }\n",
       "</style>\n",
       "<table border=\"1\" class=\"dataframe\">\n",
       "  <thead>\n",
       "    <tr style=\"text-align: right;\">\n",
       "      <th></th>\n",
       "      <th>Message-ID</th>\n",
       "      <th>From</th>\n",
       "      <th>To</th>\n",
       "      <th>Date</th>\n",
       "      <th>content</th>\n",
       "      <th>cleaned_content</th>\n",
       "    </tr>\n",
       "  </thead>\n",
       "  <tbody>\n",
       "    <tr>\n",
       "      <th>0</th>\n",
       "      <td>&lt;8345058.1075840404046.JavaMail.evans@thyme&gt;</td>\n",
       "      <td>('advdfeedback@investools.com')</td>\n",
       "      <td>('advdfeedback@investools.com')</td>\n",
       "      <td>2002-01-29 23:20:55</td>\n",
       "      <td>INVESTools Advisory\\r\\nA Free Digest of Truste...</td>\n",
       "      <td>investool advisori free digest trust invest ad...</td>\n",
       "    </tr>\n",
       "    <tr>\n",
       "      <th>1</th>\n",
       "      <td>&lt;1512159.1075863666797.JavaMail.evans@thyme&gt;</td>\n",
       "      <td>('richard.sanders@enron.com')</td>\n",
       "      <td>('richard.sanders@enron.com')</td>\n",
       "      <td>2000-09-20 19:07:00</td>\n",
       "      <td>----- Forwarded by Richard B Sanders/HOU/ECT o...</td>\n",
       "      <td>forward richard sander justin boyd richard san...</td>\n",
       "    </tr>\n",
       "    <tr>\n",
       "      <th>2</th>\n",
       "      <td>&lt;26118676.1075862176383.JavaMail.evans@thyme&gt;</td>\n",
       "      <td>('m..love@enron.com')</td>\n",
       "      <td>('m..love@enron.com')</td>\n",
       "      <td>2001-10-30 16:15:17</td>\n",
       "      <td>hey you are not wearing your target purple shi...</td>\n",
       "      <td>wear target purpl shirt today mine want look s...</td>\n",
       "    </tr>\n",
       "    <tr>\n",
       "      <th>3</th>\n",
       "      <td>&lt;10369289.1075860831062.JavaMail.evans@thyme&gt;</td>\n",
       "      <td>('leslie.milosevich@kp.org')</td>\n",
       "      <td>('leslie.milosevich@kp.org')</td>\n",
       "      <td>2002-01-30 17:54:18</td>\n",
       "      <td>Leslie Milosevich\\r\\n1042 Santa Clara Avenue\\r...</td>\n",
       "      <td>lesli milosevich santa clara avenu alameda les...</td>\n",
       "    </tr>\n",
       "    <tr>\n",
       "      <th>4</th>\n",
       "      <td>&lt;26728895.1075860815046.JavaMail.evans@thyme&gt;</td>\n",
       "      <td>('rtwait@graphicaljazz.com')</td>\n",
       "      <td>('rtwait@graphicaljazz.com')</td>\n",
       "      <td>2002-01-30 19:36:01</td>\n",
       "      <td>Rini Twait\\r\\n1010 E 5th Ave\\r\\nLongmont, CO 8...</td>\n",
       "      <td>rini twait longmont rtwait graphicaljazz write...</td>\n",
       "    </tr>\n",
       "    <tr>\n",
       "      <th>...</th>\n",
       "      <td>...</td>\n",
       "      <td>...</td>\n",
       "      <td>...</td>\n",
       "      <td>...</td>\n",
       "      <td>...</td>\n",
       "      <td>...</td>\n",
       "    </tr>\n",
       "    <tr>\n",
       "      <th>2085</th>\n",
       "      <td>&lt;19039088.1075851547721.JavaMail.evans@thyme&gt;</td>\n",
       "      <td>('andy.zipper@enron.com')</td>\n",
       "      <td>('andy.zipper@enron.com')</td>\n",
       "      <td>2001-10-22 14:00:17</td>\n",
       "      <td>i bot 1,000/d at 3.175 apr/oct02. put it again...</td>\n",
       "      <td>digit thank</td>\n",
       "    </tr>\n",
       "    <tr>\n",
       "      <th>2086</th>\n",
       "      <td>&lt;6813352.1075842016977.JavaMail.evans@thyme&gt;</td>\n",
       "      <td>('andy.zipper@enron.com')</td>\n",
       "      <td>('andy.zipper@enron.com')</td>\n",
       "      <td>2002-01-25 17:39:38</td>\n",
       "      <td>I'm okay. How are you ?</td>\n",
       "      <td>okay</td>\n",
       "    </tr>\n",
       "    <tr>\n",
       "      <th>2087</th>\n",
       "      <td>&lt;4833106.1075842022184.JavaMail.evans@thyme&gt;</td>\n",
       "      <td>('tradersummary@syncrasy.com')</td>\n",
       "      <td>('tradersummary@syncrasy.com')</td>\n",
       "      <td>2002-02-01 16:15:17</td>\n",
       "      <td>\\r\\n[IMAGE]=09\\r\\n\\r\\n\\r\\n[IMAGE] [IMAGE][IMAG...</td>\n",
       "      <td>syncrasi texa avenu suit ouston syncrasi sale ...</td>\n",
       "    </tr>\n",
       "    <tr>\n",
       "      <th>2088</th>\n",
       "      <td>&lt;3550151.1075842023814.JavaMail.evans@thyme&gt;</td>\n",
       "      <td>('lmrig@qwest.net')</td>\n",
       "      <td>('lmrig@qwest.net')</td>\n",
       "      <td>2002-01-29 02:01:00</td>\n",
       "      <td>\\r\\n\\r\\nTransmission Expansion and Systems in ...</td>\n",
       "      <td>transmiss expans system transit confer miami f...</td>\n",
       "    </tr>\n",
       "    <tr>\n",
       "      <th>2089</th>\n",
       "      <td>&lt;33102456.1075842033860.JavaMail.evans@thyme&gt;</td>\n",
       "      <td>('john.zufferli@enron.com')</td>\n",
       "      <td>('john.zufferli@enron.com')</td>\n",
       "      <td>2001-08-09 18:59:27</td>\n",
       "      <td>Sorry Nella, I replied a while ago directly to...</td>\n",
       "      <td>sorri nella repli direct milnthorp origin mess...</td>\n",
       "    </tr>\n",
       "  </tbody>\n",
       "</table>\n",
       "<p>2090 rows × 6 columns</p>\n",
       "</div>"
      ],
      "text/plain": [
       "                                         Message-ID  \\\n",
       "0      <8345058.1075840404046.JavaMail.evans@thyme>   \n",
       "1      <1512159.1075863666797.JavaMail.evans@thyme>   \n",
       "2     <26118676.1075862176383.JavaMail.evans@thyme>   \n",
       "3     <10369289.1075860831062.JavaMail.evans@thyme>   \n",
       "4     <26728895.1075860815046.JavaMail.evans@thyme>   \n",
       "...                                             ...   \n",
       "2085  <19039088.1075851547721.JavaMail.evans@thyme>   \n",
       "2086   <6813352.1075842016977.JavaMail.evans@thyme>   \n",
       "2087   <4833106.1075842022184.JavaMail.evans@thyme>   \n",
       "2088   <3550151.1075842023814.JavaMail.evans@thyme>   \n",
       "2089  <33102456.1075842033860.JavaMail.evans@thyme>   \n",
       "\n",
       "                                 From                               To  \\\n",
       "0     ('advdfeedback@investools.com')  ('advdfeedback@investools.com')   \n",
       "1       ('richard.sanders@enron.com')    ('richard.sanders@enron.com')   \n",
       "2               ('m..love@enron.com')            ('m..love@enron.com')   \n",
       "3        ('leslie.milosevich@kp.org')     ('leslie.milosevich@kp.org')   \n",
       "4        ('rtwait@graphicaljazz.com')     ('rtwait@graphicaljazz.com')   \n",
       "...                               ...                              ...   \n",
       "2085        ('andy.zipper@enron.com')        ('andy.zipper@enron.com')   \n",
       "2086        ('andy.zipper@enron.com')        ('andy.zipper@enron.com')   \n",
       "2087   ('tradersummary@syncrasy.com')   ('tradersummary@syncrasy.com')   \n",
       "2088              ('lmrig@qwest.net')              ('lmrig@qwest.net')   \n",
       "2089      ('john.zufferli@enron.com')      ('john.zufferli@enron.com')   \n",
       "\n",
       "                     Date                                            content  \\\n",
       "0     2002-01-29 23:20:55  INVESTools Advisory\\r\\nA Free Digest of Truste...   \n",
       "1     2000-09-20 19:07:00  ----- Forwarded by Richard B Sanders/HOU/ECT o...   \n",
       "2     2001-10-30 16:15:17  hey you are not wearing your target purple shi...   \n",
       "3     2002-01-30 17:54:18  Leslie Milosevich\\r\\n1042 Santa Clara Avenue\\r...   \n",
       "4     2002-01-30 19:36:01  Rini Twait\\r\\n1010 E 5th Ave\\r\\nLongmont, CO 8...   \n",
       "...                   ...                                                ...   \n",
       "2085  2001-10-22 14:00:17  i bot 1,000/d at 3.175 apr/oct02. put it again...   \n",
       "2086  2002-01-25 17:39:38                            I'm okay. How are you ?   \n",
       "2087  2002-02-01 16:15:17  \\r\\n[IMAGE]=09\\r\\n\\r\\n\\r\\n[IMAGE] [IMAGE][IMAG...   \n",
       "2088  2002-01-29 02:01:00  \\r\\n\\r\\nTransmission Expansion and Systems in ...   \n",
       "2089  2001-08-09 18:59:27  Sorry Nella, I replied a while ago directly to...   \n",
       "\n",
       "                                        cleaned_content  \n",
       "0     investool advisori free digest trust invest ad...  \n",
       "1     forward richard sander justin boyd richard san...  \n",
       "2     wear target purpl shirt today mine want look s...  \n",
       "3     lesli milosevich santa clara avenu alameda les...  \n",
       "4     rini twait longmont rtwait graphicaljazz write...  \n",
       "...                                                 ...  \n",
       "2085                                        digit thank  \n",
       "2086                                               okay  \n",
       "2087  syncrasi texa avenu suit ouston syncrasi sale ...  \n",
       "2088  transmiss expans system transit confer miami f...  \n",
       "2089  sorri nella repli direct milnthorp origin mess...  \n",
       "\n",
       "[2090 rows x 6 columns]"
      ]
     },
     "execution_count": 24,
     "metadata": {},
     "output_type": "execute_result"
    }
   ],
   "source": [
    "df"
   ]
  },
  {
   "cell_type": "code",
   "execution_count": 26,
   "id": "f1fadcea",
   "metadata": {
    "scrolled": true
   },
   "outputs": [],
   "source": [
    "df.to_csv('enron_emails_clean.csv', index=False)"
   ]
  }
 ],
 "metadata": {
  "kernelspec": {
   "display_name": "Python 3 (ipykernel)",
   "language": "python",
   "name": "python3"
  },
  "language_info": {
   "codemirror_mode": {
    "name": "ipython",
    "version": 3
   },
   "file_extension": ".py",
   "mimetype": "text/x-python",
   "name": "python",
   "nbconvert_exporter": "python",
   "pygments_lexer": "ipython3",
   "version": "3.10.9"
  }
 },
 "nbformat": 4,
 "nbformat_minor": 5
}
